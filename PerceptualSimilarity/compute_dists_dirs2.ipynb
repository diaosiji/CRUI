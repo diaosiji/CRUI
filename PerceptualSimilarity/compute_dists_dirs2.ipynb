{
 "cells": [
  {
   "cell_type": "markdown",
   "metadata": {},
   "source": [
    "# 计算距离\n",
    "\n",
    "先对compute_dists_dirs.py脚本进行修改，使之能够在jupyter下运行起来。"
   ]
  },
  {
   "cell_type": "code",
   "execution_count": 12,
   "metadata": {
    "scrolled": true
   },
   "outputs": [
    {
     "name": "stdout",
     "output_type": "stream",
     "text": [
      "Setting up Perceptual loss...\n",
      "Loading model from: /Users/diaosiji/PerceptualSimilarity/models/weights/v0.1/alex.pth\n",
      "...[net-lin [alex]] initialized\n",
      "...Done\n",
      "backpack_00240.png: 0.344\n",
      "backpack_00254.png: 0.375\n",
      "backpack_00268.png: 0.344\n",
      "backpack_00255.png: 0.378\n",
      "backpack_00241.png: 0.371\n",
      "backpack_00257.png: 0.318\n",
      "backpack_00243.png: 0.302\n",
      "backpack_00242.png: 0.245\n",
      "backpack_00256.png: 0.284\n",
      "backpack_00252.png: 0.394\n",
      "backpack_00246.png: 0.474\n",
      "backpack_00247.png: 0.269\n",
      "backpack_00253.png: 0.477\n",
      "backpack_00245.png: 0.390\n",
      "backpack_00251.png: 0.383\n",
      "backpack_00250.png: 0.338\n",
      "backpack_00244.png: 0.305\n",
      "backpack_00237.png: 0.332\n",
      "backpack_00236.png: 0.298\n",
      "backpack_00234.png: 0.333\n",
      "backpack_00235.png: 0.313\n",
      "backpack_00231.png: 0.333\n",
      "backpack_00230.png: 0.308\n",
      "backpack_00232.png: 0.271\n",
      "backpack_00233.png: 0.271\n",
      "backpack_00229.png: 0.327\n",
      "backpack_00228.png: 0.336\n",
      "backpack_00238.png: 0.306\n",
      "backpack_00239.png: 0.307\n",
      "backpack_00261.png: 0.384\n",
      "backpack_00249.png: 0.351\n",
      "backpack_00248.png: 0.343\n",
      "backpack_00260.png: 0.319\n",
      "backpack_00262.png: 0.340\n",
      "backpack_00263.png: 0.342\n",
      "backpack_00267.png: 0.268\n",
      "backpack_00266.png: 0.266\n",
      "backpack_00258.png: 0.369\n",
      "backpack_00264.png: 0.281\n",
      "backpack_00265.png: 0.435\n",
      "backpack_00259.png: 0.340\n"
     ]
    }
   ],
   "source": [
    "import argparse\n",
    "import os\n",
    "import models\n",
    "from util import util\n",
    "\n",
    "#parser = argparse.ArgumentParser(formatter_class=argparse.ArgumentDefaultsHelpFormatter)\n",
    "#parser.add_argument('-d0','--dir0', type=str, default='./imgs/ex_dir0')\n",
    "#parser.add_argument('-d1','--dir1', type=str, default='./imgs/ex_dir1')\n",
    "#parser.add_argument('-o','--out', type=str, default='./imgs/example_dists.txt')\n",
    "#parser.add_argument('--use_gpu', action='store_true', help='turn on flag to use GPU')\n",
    "\n",
    "#opt = parser.parse_args()\n",
    "\n",
    "dir0 = './imgs/ex_dir0'\n",
    "dir1 = './imgs/ex_dir1'\n",
    "out = './imgs/example_dists.txt'\n",
    "use_gpu = False\n",
    "\n",
    "\n",
    "## Initializing the model\n",
    "model = models.PerceptualLoss(model='net-lin',net='alex',use_gpu=use_gpu)\n",
    "\n",
    "# crawl directories\n",
    "f = open(out,'w')\n",
    "files = os.listdir(dir0)\n",
    "\n",
    "for file in files:\n",
    "    \n",
    "\tif(os.path.exists(os.path.join(dir1,file))):\n",
    "\t\t# Load images\n",
    "\t\timg0 = util.im2tensor(util.load_image(os.path.join(dir0,file))) # RGB image from [-1,1]\n",
    "\t\timg1 = util.im2tensor(util.load_image(os.path.join(dir1,file)))\n",
    "\n",
    "\t\tif(use_gpu):\n",
    "\t\t\timg0 = img0.cuda()\n",
    "\t\t\timg1 = img1.cuda()\n",
    "\n",
    "\t\t# Compute distance\n",
    "\t\tdist01 = model.forward(img0,img1)\n",
    "\t\tprint('%s: %.3f'%(file,dist01))\n",
    "\t\tf.writelines('%s: %.6f\\n'%(file,dist01))\n",
    "\n",
    "f.close()\n"
   ]
  },
  {
   "cell_type": "markdown",
   "metadata": {},
   "source": [
    "## 修改目标\n",
    "\n",
    "- 增加一个路径参数dir2。这样可以dir0放原图（鞋子+logo），dir1放生成图（鞋子+logo的轮廓图经pix2pix输出的生成图），dir2放添加生成图（无logo鞋子轮廓经pix2pix输出的生成图+logo）；\n",
    "- 在在dir0的遍历循环中，增加一个代码段，用于判断dir2中是否存在同名文件，如果是，则同样进行比对，计算dir2中图片与原图的距离；\n",
    "- 计算出来的距离数据应该放到Nx2的张量中，便于比较计算均值，方差等；\n",
    "\n",
    "### 导入依赖"
   ]
  },
  {
   "cell_type": "code",
   "execution_count": 1,
   "metadata": {},
   "outputs": [],
   "source": [
    "import argparse\n",
    "import os\n",
    "import models\n",
    "from util import util\n",
    "\n",
    "# for compute\n",
    "import numpy as np\n",
    "import torch"
   ]
  },
  {
   "cell_type": "markdown",
   "metadata": {},
   "source": [
    "### 设置参数"
   ]
  },
  {
   "cell_type": "code",
   "execution_count": 2,
   "metadata": {},
   "outputs": [],
   "source": [
    "# ex_dir0用于放置物体加logo原图\n",
    "dir0 = './imgs/ex_dir0'\n",
    "\n",
    "# ex_dir1用于放置cGAN直接生成图\n",
    "dir1 = './imgs/ex_dir1'\n",
    "\n",
    "# ex_dir2用于放置生成添加logo图\n",
    "dir2 = './imgs/ex_dir2'\n",
    "\n",
    "# ex_dir3用于发放至物体加logo图的轮廓提取图\n",
    "dir3 = './imgs/ex_dir3'\n",
    "\n",
    "# 输出计算结果的文件路径\n",
    "out = './imgs/example_dists.txt'\n",
    "\n",
    "# 是否使用GPU\n",
    "use_gpu = False"
   ]
  },
  {
   "cell_type": "markdown",
   "metadata": {},
   "source": [
    "### 初始化模型及记录文件"
   ]
  },
  {
   "cell_type": "code",
   "execution_count": 5,
   "metadata": {},
   "outputs": [
    {
     "name": "stdout",
     "output_type": "stream",
     "text": [
      "Setting up Perceptual loss...\n",
      "Loading model from: /Users/diaosiji/PerceptualSimilarity/models/weights/v0.1/alex.pth\n",
      "...[net-lin [alex]] initialized\n",
      "...Done\n"
     ]
    }
   ],
   "source": [
    "## Initializing the model\n",
    "model = models.PerceptualLoss(model='net-lin',net='alex',use_gpu=use_gpu)\n",
    "\n",
    "# crawl directories 不需要这个文件\n",
    "#f = open(out,'w')"
   ]
  },
  {
   "cell_type": "markdown",
   "metadata": {},
   "source": [
    "### 主循环\n",
    "\n",
    "- 修改1：取消文件写入，直接在笔记内计算即可；OK\n",
    "- 修改2：添加一个新的目录dir2；OK\n",
    "\n",
    "- 注意：dir1、2、3内的图片命名和后缀都要一致，如果是jpg和png就不行。可以用mac批量替换后缀！\n",
    "\n",
    "模型输出的dist0x距离是torch.Tensor数据类型。"
   ]
  },
  {
   "cell_type": "code",
   "execution_count": 8,
   "metadata": {
    "scrolled": true
   },
   "outputs": [
    {
     "name": "stdout",
     "output_type": "stream",
     "text": [
      "30_AB.png cGAN: 0.313 augment: 0.284 sketch: 0.525\n",
      "53_AB.png cGAN: 0.210 augment: 0.188 sketch: 0.428\n",
      "65_AB.png cGAN: 0.298 augment: 0.263 sketch: 0.538\n",
      "14_AB.png cGAN: 0.226 augment: 0.197 sketch: 0.444\n",
      "1_AB.png cGAN: 0.241 augment: 0.211 sketch: 0.502\n",
      "51_AB.png cGAN: 0.165 augment: 0.141 sketch: 0.501\n",
      "20_AB.png cGAN: 0.162 augment: 0.147 sketch: 0.418\n",
      "16_AB.png cGAN: 0.188 augment: 0.152 sketch: 0.377\n",
      "7_AB.png cGAN: 0.398 augment: 0.368 sketch: 0.565\n",
      "59_AB.png cGAN: 0.274 augment: 0.226 sketch: 0.540\n",
      "55_AB.png cGAN: 0.214 augment: 0.195 sketch: 0.575\n",
      "28_AB.png cGAN: 0.265 augment: 0.241 sketch: 0.538\n",
      "10_AB.png cGAN: 0.170 augment: 0.141 sketch: 0.466\n",
      "34_AB.png cGAN: 0.338 augment: 0.317 sketch: 0.613\n",
      "57_AB.png cGAN: 0.200 augment: 0.191 sketch: 0.436\n",
      "26_AB.png cGAN: 0.211 augment: 0.153 sketch: 0.347\n",
      "38_AB.png cGAN: 0.128 augment: 0.117 sketch: 0.357\n",
      "9_AB.png cGAN: 0.150 augment: 0.114 sketch: 0.378\n",
      "15_AB.png cGAN: 0.192 augment: 0.157 sketch: 0.501\n",
      "52_AB.png cGAN: 0.273 augment: 0.236 sketch: 0.497\n",
      "31_AB.png cGAN: 0.333 augment: 0.307 sketch: 0.474\n",
      "21_AB.png cGAN: 0.261 augment: 0.231 sketch: 0.459\n",
      "42_AB.png cGAN: 0.344 augment: 0.305 sketch: 0.524\n",
      "25_AB.png cGAN: 0.238 augment: 0.214 sketch: 0.466\n",
      "46_AB.png cGAN: 0.361 augment: 0.330 sketch: 0.549\n",
      "37_AB.png cGAN: 0.298 augment: 0.267 sketch: 0.567\n",
      "13_AB.png cGAN: 0.214 augment: 0.164 sketch: 0.371\n",
      "6_AB.png cGAN: 0.250 augment: 0.224 sketch: 0.447\n",
      "8_AB.png cGAN: 0.310 augment: 0.285 sketch: 0.518\n",
      "39_AB.png cGAN: 0.285 augment: 0.261 sketch: 0.500\n",
      "cGAN mean distance with origin: tensor(0.2503)\n",
      "cGAN distance std with origin: tensor(0.0683)\n",
      "augment mean distance with origin: tensor(0.2209)\n",
      "augment distance std with origin: tensor(0.0675)\n",
      "sketch mean distance with origin: tensor(0.4807)\n",
      "sketch distance std with origin: tensor(0.0699)\n"
     ]
    }
   ],
   "source": [
    "# 遍历原图文件夹内图片\n",
    "files = os.listdir(dir0)\n",
    "# 列表\n",
    "dist01_list = []\n",
    "dist02_list = []\n",
    "dist03_list = []\n",
    "\n",
    "for file in files:\n",
    "    img0 = util.im2tensor(util.load_image(os.path.join(dir0,file))) # RGB image from [-1,1]\n",
    "    # 这是在生成图目录\n",
    "    #print(os.path.exists(os.path.join(dir1,file)))\n",
    "    if(os.path.exists(os.path.join(dir1,file))):\n",
    "        # Load images\n",
    "        img1 = util.im2tensor(util.load_image(os.path.join(dir1,file)))\n",
    "        #print(img1)\n",
    "\n",
    "    # 这是在添加生成图目录\n",
    "    #print(os.path.exists(os.path.join(dir2,file)))\n",
    "    if(os.path.exists(os.path.join(dir2,file))):\n",
    "        # Load images\n",
    "        img2 = util.im2tensor(util.load_image(os.path.join(dir2,file)))\n",
    "        \n",
    "    # 这是在有logo原图的轮廓图的目录\n",
    "    if(os.path.exists(os.path.join(dir3,file))):\n",
    "        # Load images\n",
    "        img3 = util.im2tensor(util.load_image(os.path.join(dir3,file)))\n",
    "\n",
    "        if(use_gpu):\n",
    "            img0 = img0.cuda()\n",
    "            img1 = img1.cuda()\n",
    "            img2 = img2.cuda()\n",
    "            img3 = img3.cuda()\n",
    "\n",
    "        # Compute distance\n",
    "        # 原图和生成图距离\n",
    "        dist01 = model.forward(img0,img1)\n",
    "        #print(dist01.data.numpy()[0,0,0,0])\n",
    "        dist01_list.append(dist01.data.numpy()[0,0,0,0])\n",
    "        \n",
    "        # 原图和添加生成图距离\n",
    "        dist02 = model.forward(img0,img2)\n",
    "        dist02_list.append(dist02.data.numpy()[0,0,0,0])\n",
    "        \n",
    "        # 原图和轮廓图距离\n",
    "        dist03 = model.forward(img0,img3)\n",
    "        dist03_list.append(dist03.data.numpy()[0,0,0,0])\n",
    "        \n",
    "        print('%s cGAN: %.3f augment: %.3f sketch: %.3f'%(file,dist01,dist02,dist03))\n",
    "       \n",
    "#print(dist01_list)\n",
    "#print(dist02_list)\n",
    "tensor1 = torch.Tensor(dist01_list)\n",
    "tensor2 = torch.Tensor(dist02_list)\n",
    "tensor3 = torch.Tensor(dist03_list)\n",
    "\n",
    "print('cGAN mean distance with origin:', tensor1.mean())\n",
    "print('cGAN distance std with origin:', tensor1.std())\n",
    "print('augment mean distance with origin:', tensor2.mean())\n",
    "print('augment distance std with origin:', tensor2.std())\n",
    "print('sketch mean distance with origin:', tensor3.mean())\n",
    "print('sketch distance std with origin:', tensor3.std())"
   ]
  },
  {
   "cell_type": "code",
   "execution_count": null,
   "metadata": {},
   "outputs": [],
   "source": []
  },
  {
   "cell_type": "markdown",
   "metadata": {},
   "source": [
    "\n",
    "\n",
    "\n",
    "\n",
    "\n",
    "\n",
    "\n",
    "\n",
    "\n",
    "\n",
    "\n",
    "\n",
    "\n",
    "\n",
    "\n",
    "\n",
    "\n",
    "\n",
    "\n",
    "\n",
    "\n",
    "\n",
    "\n",
    "\n",
    "\n",
    "\n",
    "\n",
    "\n",
    "\n",
    "\n",
    "\n"
   ]
  }
 ],
 "metadata": {
  "kernelspec": {
   "display_name": "Python [conda env:pix2pix]",
   "language": "python",
   "name": "conda-env-pix2pix-py"
  },
  "language_info": {
   "codemirror_mode": {
    "name": "ipython",
    "version": 3
   },
   "file_extension": ".py",
   "mimetype": "text/x-python",
   "name": "python",
   "nbconvert_exporter": "python",
   "pygments_lexer": "ipython3",
   "version": "3.7.3"
  }
 },
 "nbformat": 4,
 "nbformat_minor": 2
}
